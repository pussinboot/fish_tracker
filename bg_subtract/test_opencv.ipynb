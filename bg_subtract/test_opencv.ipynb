{
 "cells": [
  {
   "cell_type": "code",
   "execution_count": 5,
   "metadata": {
    "collapsed": true
   },
   "outputs": [],
   "source": [
    "import numpy as np\n",
    "import cv2"
   ]
  },
  {
   "cell_type": "code",
   "execution_count": 8,
   "metadata": {
    "collapsed": false
   },
   "outputs": [],
   "source": [
    "cap = cv2.VideoCapture('rdy_gun.avi')\n",
    "fgbg = cv2.createBackgroundSubtractorMOG2()\n",
    "\n",
    "while(1):\n",
    "    ret, frame = cap.read()\n",
    "    fgmask = fgbg.apply(frame)\n",
    "#     masked_image = np.dstack([frame, (~fgmask).astype(np.uint8)*255])\n",
    "    masked_image = cv2.bitwise_and(frame,frame,mask = fgmask)\n",
    "    if masked_image is not None:\n",
    "        cv2.imshow('frame',masked_image)\n",
    "    k = cv2.waitKey(30) & 0xff\n",
    "    if k == 27:\n",
    "        break\n",
    "cap.release()\n",
    "cv2.destroyAllWindows()"
   ]
  },
  {
   "cell_type": "code",
   "execution_count": 7,
   "metadata": {
    "collapsed": false,
    "scrolled": true
   },
   "outputs": [
    {
     "name": "stderr",
     "output_type": "stream",
     "text": [
      "ffmpeg version N-81328-gceab04f Copyright (c) 2000-2016 the FFmpeg developers\n",
      "  built with gcc 5.4.0 (GCC)\n",
      "  configuration: --enable-gpl --enable-version3 --disable-w32threads --enable-dxva2 --enable-libmfx --enable-nvenc --enable-avisynth --enable-bzlib --enable-libebur128 --enable-fontconfig --enable-frei0r --enable-gnutls --enable-iconv --enable-libass --enable-libbluray --enable-libbs2b --enable-libcaca --enable-libfreetype --enable-libgme --enable-libgsm --enable-libilbc --enable-libmodplug --enable-libmp3lame --enable-libopencore-amrnb --enable-libopencore-amrwb --enable-libopenjpeg --enable-libopus --enable-librtmp --enable-libschroedinger --enable-libsnappy --enable-libsoxr --enable-libspeex --enable-libtheora --enable-libtwolame --enable-libvidstab --enable-libvo-amrwbenc --enable-libvorbis --enable-libvpx --enable-libwavpack --enable-libwebp --enable-libx264 --enable-libx265 --enable-libxavs --enable-libxvid --enable-libzimg --enable-lzma --enable-decklink --enable-zlib\n",
      "  libavutil      55. 28.100 / 55. 28.100\n",
      "  libavcodec     57. 51.102 / 57. 51.102\n",
      "  libavformat    57. 46.101 / 57. 46.101\n",
      "  libavdevice    57.  0.102 / 57.  0.102\n",
      "  libavfilter     6. 51.100 /  6. 51.100\n",
      "  libswscale      4.  1.100 /  4.  1.100\n",
      "  libswresample   2.  1.100 /  2.  1.100\n",
      "  libpostproc    54.  0.100 / 54.  0.100\n",
      "Input #0, mov,mp4,m4a,3gp,3g2,mj2, from 'rdy_gun.mov':\n",
      "  Metadata:\n",
      "    creation_time   : 2016-04-15 02:38:08\n",
      "  Duration: 00:00:13.01, start: 0.000000, bitrate: 9518 kb/s\n",
      "    Stream #0:0(eng): Video: dxv (DXD3 / 0x33445844), rgba, 640x480, 9517 kb/s, 23.98 fps, 23.98 tbr, 23976 tbn, 23976 tbc (default)\n",
      "    Metadata:\n",
      "      creation_time   : 2016-04-15 02:38:08\n",
      "      handler_name    : Apple Alias Data Handler\n",
      "      encoder         : DXV 3\n",
      "[avi @ 00000000026c9740] Using AVStream.codec to pass codec parameters to muxers is deprecated, use AVStream.codecpar instead.\n",
      "Output #0, avi, to 'rdy_gun.avi':\n",
      "  Metadata:\n",
      "    ISFT            : Lavf57.46.101\n",
      "    Stream #0:0(eng): Video: mpeg4 (FMP4 / 0x34504D46), yuv420p, 640x480, q=2-31, 200 kb/s, 23.98 fps, 23.98 tbn, 23.98 tbc (default)\n",
      "    Metadata:\n",
      "      creation_time   : 2016-04-15 02:38:08\n",
      "      handler_name    : Apple Alias Data Handler\n",
      "      encoder         : Lavc57.51.102 mpeg4\n",
      "    Side data:\n",
      "      cpb: bitrate max/min/avg: 0/0/200000 buffer size: 0 vbv_delay: -1\n",
      "Stream mapping:\n",
      "  Stream #0:0 -> #0:0 (dxv (native) -> mpeg4 (native))\n",
      "Press [q] to stop, [?] for help\n",
      "frame=  209 fps=0.0 q=1.0 size=    2742kB time=00:00:08.71 bitrate=2576.9kbits/s speed=17.4x    \n",
      "frame=  312 fps=0.0 q=1.0 Lsize=    3686kB time=00:00:13.01 bitrate=2320.5kbits/s speed=  18x    \n",
      "video:3673kB audio:0kB subtitle:0kB other streams:0kB global headers:0kB muxing overhead: 0.353842%\n"
     ]
    }
   ],
   "source": [
    "!ffmpeg -i rdy_gun.mov -q:v 1 -vcodec mpeg4 -y rdy_gun.avi"
   ]
  }
 ],
 "metadata": {
  "kernelspec": {
   "display_name": "Python [Root]",
   "language": "python",
   "name": "Python [Root]"
  },
  "language_info": {
   "codemirror_mode": {
    "name": "ipython",
    "version": 3
   },
   "file_extension": ".py",
   "mimetype": "text/x-python",
   "name": "python",
   "nbconvert_exporter": "python",
   "pygments_lexer": "ipython3",
   "version": "3.5.2"
  }
 },
 "nbformat": 4,
 "nbformat_minor": 0
}
